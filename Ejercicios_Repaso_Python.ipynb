{
  "nbformat": 4,
  "nbformat_minor": 0,
  "metadata": {
    "colab": {
      "name": "Ejercicios_Repaso_Python.ipynb",
      "provenance": [],
      "collapsed_sections": [],
      "include_colab_link": true
    },
    "kernelspec": {
      "name": "python3",
      "display_name": "Python 3"
    }
  },
  "cells": [
    {
      "cell_type": "markdown",
      "metadata": {
        "id": "view-in-github",
        "colab_type": "text"
      },
      "source": [
        "<a href=\"https://colab.research.google.com/github/DouglasFlint/DeepLearning/blob/main/Ejercicios_Repaso_Python.ipynb\" target=\"_parent\"><img src=\"https://colab.research.google.com/assets/colab-badge.svg\" alt=\"Open In Colab\"/></a>"
      ]
    },
    {
      "cell_type": "markdown",
      "metadata": {
        "id": "c0m7yt9HjJWA"
      },
      "source": [
        "1. Hacer un programa que sume los primeros 50 números pares sin usar fórmulas.\n",
        "\n",
        "Respuesta: 2450"
      ]
    },
    {
      "cell_type": "code",
      "metadata": {
        "id": "cJLmSz7kjgny",
        "colab": {
          "base_uri": "https://localhost:8080/"
        },
        "outputId": "3c895268-1683-405c-f5e5-adc6baaaad04"
      },
      "source": [
        "suma = 0\n",
        "for i in range(100):\n",
        "  if i % 2 == 0:\n",
        "    suma += i\n",
        "\n",
        "print(suma)\n",
        "\n",
        "\n"
      ],
      "execution_count": null,
      "outputs": [
        {
          "output_type": "stream",
          "text": [
            "2450\n"
          ],
          "name": "stdout"
        }
      ]
    },
    {
      "cell_type": "markdown",
      "metadata": {
        "id": "eI0oaA9qjKsd"
      },
      "source": [
        "2. Ordenar los elementos de una lista según el número de vocales que tiene cada palabra."
      ]
    },
    {
      "cell_type": "code",
      "metadata": {
        "id": "ea4adUyYjHCc",
        "colab": {
          "base_uri": "https://localhost:8080/"
        },
        "outputId": "1fba8dc0-88cb-4b3b-f710-cf4b0f8f5d19"
      },
      "source": [
        "#Definimos una funcion que cheque si es vocal\n",
        "\n",
        "def esVocal(ch):\n",
        "  ch = ch.upper();\n",
        "  return (ch == 'A' or ch == 'E' or ch == 'I' or ch == 'O' or ch == 'U');\n",
        "\n",
        "\n",
        "#Funcion que nos devuelve cuantas vocales hay en una palabra\n",
        "def contarVocales(string):\n",
        "  count = 0;\n",
        "  for i in range(len(string)):\n",
        "    #Checamos si es vocal\n",
        "    if(esVocal(string[i])):\n",
        "      count +=1;\n",
        "  return count;\n",
        "\n",
        "#Funcion para sortear el arreglo de acuerdo al numero de vocales\n",
        "def sortArr(arr,n):\n",
        "  #Lista o Vector que almacenara el numero de vocales con sus respectivos elementos\n",
        "  vp = [];\n",
        "  #Insertamos el numero de vocales con sus respectivas cadenas en el vector\n",
        "  for i in range(n):\n",
        "    vp.append((contarVocales(arr[i]),arr[i]));\n",
        "\n",
        "  #Sorteamos el vector, esto sorteara el par de acuerdo al numero de vocales\n",
        "  vp.sort()\n",
        "\n",
        "  #imprimimos el contenido \n",
        "  for i in range(len(vp)):\n",
        "    print(vp[i][1], end = \" \");\n",
        "\n",
        "listaRandom = [\"Comenzemos\", \"a\", \"escribir\", \"cosas\", \"coherentes\", \"en\", \"terminos\", \"de\", \"aleatoreidad\"];\n",
        "n = len(listaRandom);\n",
        "\n",
        "sortArr(listaRandom,n);\n",
        "\n",
        "\n",
        "\n",
        "\n",
        "\n",
        "    \n",
        "      "
      ],
      "execution_count": 1,
      "outputs": [
        {
          "output_type": "stream",
          "text": [
            "a de en cosas escribir terminos Comenzemos coherentes aleatoreidad "
          ],
          "name": "stdout"
        }
      ]
    },
    {
      "cell_type": "code",
      "metadata": {
        "id": "83CEXJ3japgn"
      },
      "source": [
        ""
      ],
      "execution_count": null,
      "outputs": []
    },
    {
      "cell_type": "markdown",
      "metadata": {
        "id": "uw4-e6JWjL4Q"
      },
      "source": [
        "3. Escriba una función que tome dos listas y devuelva True si tienen al menos un miembro común."
      ]
    },
    {
      "cell_type": "code",
      "metadata": {
        "id": "habrIrWYjHGd",
        "colab": {
          "base_uri": "https://localhost:8080/"
        },
        "outputId": "11300a6f-78eb-4ab5-c67a-df8020ac00cc"
      },
      "source": [
        "def elementoComun(lista1,lista2):\n",
        "  for i in range(len(lista1)):\n",
        "    for j in range(len(lista2)):\n",
        "      if lista1[i] == lista2[j]:\n",
        "        return True;\n",
        "  return False;\n",
        "\n",
        "lista1 = [1,2,3,4,5,6];\n",
        "lista2 = [7,8,9,0];\n",
        "\n",
        "print(elementoComun(lista1,lista2));\n",
        "    "
      ],
      "execution_count": 6,
      "outputs": [
        {
          "output_type": "stream",
          "text": [
            "False\n"
          ],
          "name": "stdout"
        }
      ]
    },
    {
      "cell_type": "markdown",
      "metadata": {
        "id": "AxZriEWxjMrb"
      },
      "source": [
        "4. Escriba un programa para obtener un string a partir de un string dado, donde todas las apariciones de su primer carácter se han cambiado a '\\$', excepto el primer carácter en sí.\n",
        "\n",
        "Sample String : 'restart'\n",
        "\n",
        "Expected Result : 'resta$t'"
      ]
    },
    {
      "cell_type": "code",
      "metadata": {
        "id": "0QK0ANmZjHK4",
        "colab": {
          "base_uri": "https://localhost:8080/"
        },
        "outputId": "3ec1d408-4492-497d-d642-914952cafbe7"
      },
      "source": [
        "string = input();\n",
        "x = string[0];\n",
        "string1 = string.replace(string[0], \"$\");\n",
        "s = string[0] + string1[1:]\n",
        "print(s);\n",
        "\n"
      ],
      "execution_count": 33,
      "outputs": [
        {
          "output_type": "stream",
          "text": [
            "restart\n",
            "resta$t\n"
          ],
          "name": "stdout"
        }
      ]
    },
    {
      "cell_type": "markdown",
      "metadata": {
        "id": "LkccegP3moJs"
      },
      "source": [
        "5. Escriba un programa que tome un string y calcula el número de dígitos y letras que contiene.\n",
        "\n",
        "Ejemplo: Dado el string \"hola23\", debería devolver:\n",
        "\n",
        "letras = 4\n",
        "dígitos = 2"
      ]
    },
    {
      "cell_type": "code",
      "metadata": {
        "id": "GM1au6XAjHPt",
        "colab": {
          "base_uri": "https://localhost:8080/"
        },
        "outputId": "408ec4b1-420f-424e-b5d7-6b25a6b891ee"
      },
      "source": [
        "s = input(\"Escriba una cadena: \");\n",
        "d = l = 0;\n",
        "for c in s:\n",
        "  if c.isdigit():\n",
        "    d = d + 1;\n",
        "  elif c.isalpha():\n",
        "    l = l + 1;\n",
        "  else:\n",
        "    pass;\n",
        "\n",
        "print(\"Tiene \", d,\" digitos\")\n",
        "print(\"Tiene \", l,\" letras\")\n",
        "\n",
        "  \n",
        "\n",
        "\n",
        "\n"
      ],
      "execution_count": 37,
      "outputs": [
        {
          "output_type": "stream",
          "text": [
            "Escriba una cadena: a ve que show 123\n",
            "Tiene  3  digitos\n",
            "Tiene  10  letras\n"
          ],
          "name": "stdout"
        }
      ]
    },
    {
      "cell_type": "markdown",
      "metadata": {
        "id": "kizzfKchnPbp"
      },
      "source": [
        "6. Cree un programa para crear la tabla de multiplicar (del 1 al 10) de un número."
      ]
    },
    {
      "cell_type": "code",
      "metadata": {
        "id": "Xjv1meN1jHTd",
        "colab": {
          "base_uri": "https://localhost:8080/"
        },
        "outputId": "b6ca41d9-956f-424c-b744-c09490aeb1b1"
      },
      "source": [
        "x = input(\"Ingrese un numero \");\n",
        "x = int(x);\n",
        "for i in range(1,11):\n",
        "  print(x*i);\n",
        "\n"
      ],
      "execution_count": 43,
      "outputs": [
        {
          "output_type": "stream",
          "text": [
            "Ingrese un numero 5\n",
            "5\n",
            "10\n",
            "15\n",
            "20\n",
            "25\n",
            "30\n",
            "35\n",
            "40\n",
            "45\n",
            "50\n"
          ],
          "name": "stdout"
        }
      ]
    },
    {
      "cell_type": "markdown",
      "metadata": {
        "id": "-KThPYyhng5u"
      },
      "source": [
        "7. Escriba un programa para verificar la validez de la contraseña ingresada por los usuarios. Con las siguientes condiciones:\n",
        "\n",
        "- Al menos 1 letra entre [a-z] y 1 letra entre [A-Z].\n",
        "\n",
        "- Al menos 1 número entre [0-9].\n",
        "\n",
        "- Al menos 1 carácter de [$ # @].\n",
        "\n",
        "- Longitud mínima 6 caracteres.\n",
        "\n",
        "- Longitud máxima de 16 caracteres."
      ]
    },
    {
      "cell_type": "code",
      "metadata": {
        "id": "6nTLlJurnrTl",
        "colab": {
          "base_uri": "https://localhost:8080/"
        },
        "outputId": "e42f09d5-56bc-4b03-869a-7f33e6201d46"
      },
      "source": [
        "def validacionContra(contra):\n",
        "  SpecialSym = ['$','@','#']\n",
        "  val = True\n",
        "\n",
        "  if len(contra) < 6:\n",
        "    print(\"Longitud minima debe ser 6\")\n",
        "    val = False\n",
        "  \n",
        "  if len(contra) > 16:\n",
        "    print(\"Longitud maxima debe ser 16\")\n",
        "    val = False\n",
        "\n",
        "  if not any(char.isdigit() for char in contra):\n",
        "    print('La contrasena debe tener al menos un numero')\n",
        "    val = False\n",
        "  \n",
        "  if not any(char.islower() for char in contra):\n",
        "    print(\"La contrasena debe llevar al menos una letra minuscula\")\n",
        "    val = False\n",
        "\n",
        "  if not any(char.isupper() for char in contra):\n",
        "    print(\"La contrasena debe llevar al menos una letra mayuscula\")\n",
        "    val = False\n",
        "\n",
        "  if not any(char in SpecialSym for char in contra):\n",
        "    print('La contrasena debe llevar al menos uno de estos simbolos $@#')\n",
        "    val = False\n",
        "  \n",
        "  if val:\n",
        "    return val\n",
        "\n",
        "def main():\n",
        "  password = input();\n",
        "  if (validacionContra(password)):\n",
        "    print(\"Contrasena valida\")\n",
        "  else:\n",
        "    print(\"Contrasena invalida\")\n",
        "\n",
        "main()\n",
        "\n"
      ],
      "execution_count": 45,
      "outputs": [
        {
          "output_type": "stream",
          "text": [
            "Contra99@\n",
            "Contrasena valida\n"
          ],
          "name": "stdout"
        }
      ]
    },
    {
      "cell_type": "markdown",
      "metadata": {
        "id": "8jGnbPNfnr3N"
      },
      "source": [
        "8. Escribe un programa para contar el número de ocurrencias de cada carácter en una cadena.\n",
        "\n",
        "Ejemplo: \"Mariana\"\n",
        "\n",
        "\"M\":1\n",
        "\n",
        "\"a\":3\n",
        "\n",
        "\"r:1\n",
        "\n",
        "\"i\":1\n",
        "\n",
        "\"n\":1\n"
      ]
    },
    {
      "cell_type": "code",
      "metadata": {
        "id": "0NTRBVcFoSRn",
        "colab": {
          "base_uri": "https://localhost:8080/"
        },
        "outputId": "d40945f8-9182-4061-e5d0-b964a066cbb0"
      },
      "source": [
        "test_str = \"Geeks for Geeks\"\n",
        "freq = {}\n",
        "for i in test_str:\n",
        "  if i in freq:\n",
        "    freq[i] += 1\n",
        "  else:\n",
        "    freq[i] = 1\n",
        "\n",
        "print(str(freq))"
      ],
      "execution_count": 47,
      "outputs": [
        {
          "output_type": "stream",
          "text": [
            "{'G': 2, 'e': 4, 'k': 2, 's': 2, ' ': 2, 'f': 1, 'o': 1, 'r': 1}\n"
          ],
          "name": "stdout"
        }
      ]
    },
    {
      "cell_type": "markdown",
      "metadata": {
        "id": "Az8yeaFkoSxT"
      },
      "source": [
        "9. Haz un función para que tome como parámetro un número n y una cadena no vacía, que devuelva una cadena con el n-ésimo carácter eliminado.\n"
      ]
    },
    {
      "cell_type": "code",
      "metadata": {
        "id": "M--OFuAzikqw",
        "colab": {
          "base_uri": "https://localhost:8080/"
        },
        "outputId": "ec7ad98b-d96f-440c-a632-21cfea17b3a7"
      },
      "source": [
        "def eliminaChar(n,string):\n",
        "  s = string[:n] + string[(n+1):]\n",
        "  print(s)\n",
        "\n",
        "n = input(\"Caracter a eliminar: \")\n",
        "n = int(n)\n",
        "string = input(\"Cadena a usar: \")\n",
        "eliminaChar(n-1, string)"
      ],
      "execution_count": 49,
      "outputs": [
        {
          "output_type": "stream",
          "text": [
            "Caracter a eliminar: 3\n",
            "Cadena a usar: Emilio\n",
            "Emlio\n"
          ],
          "name": "stdout"
        }
      ]
    }
  ]
}